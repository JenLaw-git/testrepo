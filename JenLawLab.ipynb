{
 "cells": [
  {
   "cell_type": "markdown",
   "id": "967e07eb-4ece-4ab7-9974-c6247f13cbdc",
   "metadata": {},
   "source": [
    "# My Jupyter Notebook on IBM Watson Studio"
   ]
  },
  {
   "cell_type": "markdown",
   "id": "f88cd148-9221-4061-8291-99d3eadbd17c",
   "metadata": {},
   "source": [
    "**Jennifer Law**\n",
    "Large Loss Claims Manager"
   ]
  },
  {
   "cell_type": "markdown",
   "id": "53e628e2-1db7-4fa9-bec5-4f587c615c3c",
   "metadata": {},
   "source": [
    "*I am interested in data science because of the story it can tell. Data tells us everything we need to know about all going on around us to help us make decisions whether you are a consumer or business who supplies a service.*"
   ]
  },
  {
   "cell_type": "markdown",
   "id": "f55fb62b-709b-48c0-8097-1fdddf6d6f6e",
   "metadata": {},
   "source": [
    "### Cell below will provide you with simple math problem"
   ]
  },
  {
   "cell_type": "code",
   "execution_count": 2,
   "id": "a862a202-ed00-40cd-b657-2b29e41f2995",
   "metadata": {},
   "outputs": [
    {
     "data": {
      "text/plain": [
       "2"
      ]
     },
     "execution_count": 2,
     "metadata": {},
     "output_type": "execute_result"
    }
   ],
   "source": [
    "1+1"
   ]
  },
  {
   "cell_type": "markdown",
   "id": "be62e92f-598e-4c97-bf03-3821ddc5fada",
   "metadata": {},
   "source": [
    "1. Eggs\n",
    "2. Milk \n",
    "3. Bread\n",
    "~~4. Eggs~~\n",
    "\n",
    "| Tables     | Help      | Data    |\n",
    "|------------|-----------|---------|\n",
    "|  1.        | 2.        | 3.      |\n",
    "| March      |Madness    | 3.16.   |"
   ]
  },
  {
   "cell_type": "code",
   "execution_count": null,
   "id": "5d0676fb-f6fd-4700-bbc6-a35f98c1fbf0",
   "metadata": {},
   "outputs": [],
   "source": []
  }
 ],
 "metadata": {
  "kernelspec": {
   "display_name": "Python",
   "language": "python",
   "name": "conda-env-python-py"
  },
  "language_info": {
   "codemirror_mode": {
    "name": "ipython",
    "version": 3
   },
   "file_extension": ".py",
   "mimetype": "text/x-python",
   "name": "python",
   "nbconvert_exporter": "python",
   "pygments_lexer": "ipython3",
   "version": "3.7.12"
  }
 },
 "nbformat": 4,
 "nbformat_minor": 5
}
