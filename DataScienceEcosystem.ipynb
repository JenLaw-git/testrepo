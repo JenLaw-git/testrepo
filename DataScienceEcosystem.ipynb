{
 "cells": [
  {
   "cell_type": "markdown",
   "id": "0a5be53d-0dba-43e4-af4a-9ff2be01405d",
   "metadata": {},
   "source": [
    "# Data Science Tools and Ecosystem"
   ]
  },
  {
   "cell_type": "markdown",
   "id": "d64398f2-0327-4fb3-b486-f1d45a03e6d6",
   "metadata": {},
   "source": [
    "In this notebook, Data Science Tools and Ecosystem are summarized."
   ]
  },
  {
   "cell_type": "markdown",
   "id": "ddad4a64-34cd-4b7d-9b92-a988f01f49f2",
   "metadata": {},
   "source": [
    "**Objectives:**\n",
    "* Starting a Jupyter notebook\n",
    "* learn coding\n",
    "* saving in Github\n",
    "* Utilizing IBM Watson vs Jupyter\n"
   ]
  },
  {
   "cell_type": "markdown",
   "id": "fd48b6e1-37aa-4639-a693-4d01d66576c1",
   "metadata": {},
   "source": [
    "Some of the popular languages that Data Scientists use are: \n",
    "1. Python\n",
    "2. R \n",
    "3. SQL"
   ]
  },
  {
   "cell_type": "markdown",
   "id": "ca8de034-8608-4782-b0a8-eaac71cc98cc",
   "metadata": {},
   "source": [
    "Some of the commonly used libraries used by Data Scientists include:\n",
    "1. Pandas\n",
    "2. TensorFlow\n",
    "3. PyTorch"
   ]
  },
  {
   "cell_type": "markdown",
   "id": "e6975753-0b50-4b1d-ba1e-cc474f10f92d",
   "metadata": {},
   "source": [
    "| Data Science Tools   |\n",
    "----------\n",
    "|1. Tableau|\n",
    "|2. Excel  |\n",
    "|3. SAS    |\n",
    "|4. Python |\n",
    "----------\n"
   ]
  },
  {
   "cell_type": "markdown",
   "id": "a8160a28-ee05-41c9-ae0e-b3eec4d2b5f4",
   "metadata": {},
   "source": [
    "### Below are a few examples of evaluating arithmetic expressions in Python:\n",
    "7-3=4\n",
    "23-4=19"
   ]
  },
  {
   "cell_type": "code",
   "execution_count": 4,
   "id": "f88a9590-b6a4-4165-9d0c-484fd9e9c40c",
   "metadata": {},
   "outputs": [
    {
     "data": {
      "text/plain": [
       "17"
      ]
     },
     "execution_count": 4,
     "metadata": {},
     "output_type": "execute_result"
    }
   ],
   "source": [
    "(3*4)+5"
   ]
  },
  {
   "cell_type": "code",
   "execution_count": 5,
   "id": "165843fc-5628-41d1-9d0b-8f8d12225fd9",
   "metadata": {},
   "outputs": [
    {
     "data": {
      "text/plain": [
       "3.3333333333333335"
      ]
     },
     "execution_count": 5,
     "metadata": {},
     "output_type": "execute_result"
    }
   ],
   "source": [
    "200/60"
   ]
  },
  {
   "cell_type": "markdown",
   "id": "a30b5055-bc78-4b0a-af3a-bd1e419051f5",
   "metadata": {},
   "source": [
    "## Author: \n",
    "Jennifer M Law"
   ]
  },
  {
   "cell_type": "code",
   "execution_count": null,
   "id": "b0e69227-4678-49f5-a851-e6583f9ac39f",
   "metadata": {},
   "outputs": [],
   "source": []
  }
 ],
 "metadata": {
  "kernelspec": {
   "display_name": "Python",
   "language": "python",
   "name": "conda-env-python-py"
  },
  "language_info": {
   "codemirror_mode": {
    "name": "ipython",
    "version": 3
   },
   "file_extension": ".py",
   "mimetype": "text/x-python",
   "name": "python",
   "nbconvert_exporter": "python",
   "pygments_lexer": "ipython3",
   "version": "3.7.12"
  }
 },
 "nbformat": 4,
 "nbformat_minor": 5
}
